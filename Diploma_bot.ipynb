{
  "nbformat": 4,
  "nbformat_minor": 0,
  "metadata": {
    "colab": {
      "name": "Diploma_bot.ipynb",
      "provenance": [],
      "collapsed_sections": [],
      "toc_visible": true,
      "authorship_tag": "ABX9TyPw6Psl4Jdpk8biuKWuez83",
      "include_colab_link": true
    },
    "kernelspec": {
      "name": "python3",
      "display_name": "Python 3"
    }
  },
  "cells": [
    {
      "cell_type": "markdown",
      "metadata": {
        "id": "view-in-github",
        "colab_type": "text"
      },
      "source": [
        "<a href=\"https://colab.research.google.com/github/H1357/Diploma_task/blob/master/Diploma_bot.ipynb\" target=\"_parent\"><img src=\"https://colab.research.google.com/assets/colab-badge.svg\" alt=\"Open In Colab\"/></a>"
      ]
    },
    {
      "cell_type": "markdown",
      "metadata": {
        "id": "l_ZyfDTO0a6Q"
      },
      "source": [
        "# Цели проекта:\n",
        "###Понять как работать с аудио (копирование голоса/голос в текст / текст в голос)\n",
        "# Задачи проекта: \n",
        "###1 почитать статьи на сайте архив\n",
        "###2 понять как работает код для этих статей\n",
        "###3 найти интересный пример и переделать его для диплома\n",
        "###4 купить видеокарту и развивать проект после диплома "
      ]
    },
    {
      "cell_type": "code",
      "metadata": {
        "id": "tafKA3ERk4zf",
        "colab": {
          "base_uri": "https://localhost:8080/"
        },
        "outputId": "3b4d9f1d-114d-4cac-a207-f5664b4aa1c7"
      },
      "source": [
        "# Clone git repo\n",
        "!git clone https://github.com/CorentinJ/Real-Time-Voice-Cloning.git"
      ],
      "execution_count": null,
      "outputs": [
        {
          "output_type": "stream",
          "text": [
            "Cloning into 'Real-Time-Voice-Cloning'...\n",
            "remote: Enumerating objects: 2543, done.\u001b[K\n",
            "remote: Total 2543 (delta 0), reused 0 (delta 0), pack-reused 2543\u001b[K\n",
            "Receiving objects: 100% (2543/2543), 360.90 MiB | 34.23 MiB/s, done.\n",
            "Resolving deltas: 100% (1406/1406), done.\n"
          ],
          "name": "stdout"
        }
      ]
    },
    {
      "cell_type": "code",
      "metadata": {
        "id": "rIqqZl2kqiv0",
        "colab": {
          "base_uri": "https://localhost:8080/"
        },
        "outputId": "9c44567d-8bf2-4cc4-ab1b-f79ba1f2a0cd"
      },
      "source": [
        "cd Real-Time-Voice-Cloning/"
      ],
      "execution_count": null,
      "outputs": [
        {
          "output_type": "stream",
          "text": [
            "/content/Real-Time-Voice-Cloning\n"
          ],
          "name": "stdout"
        }
      ]
    },
    {
      "cell_type": "code",
      "metadata": {
        "id": "asDgMbgkqmA6",
        "colab": {
          "base_uri": "https://localhost:8080/"
        },
        "outputId": "97d11818-295b-48f9-ed63-31c350e9ffc6"
      },
      "source": [
        "# Install dependencies\n",
        "!pip install -q -r requirements.txt\n",
        "!apt-get install -qq libportaudio2\n",
        "!pip install pyTelegramBotAPI\n",
        "!pip install pysoundfile"
      ],
      "execution_count": null,
      "outputs": [
        {
          "output_type": "stream",
          "text": [
            "\u001b[K     |████████████████████████████████| 412.3MB 40kB/s \n",
            "\u001b[K     |████████████████████████████████| 686kB 61.0MB/s \n",
            "\u001b[K     |████████████████████████████████| 184kB 60.3MB/s \n",
            "\u001b[K     |████████████████████████████████| 11.6MB 56.7MB/s \n",
            "\u001b[K     |████████████████████████████████| 245kB 64.6MB/s \n",
            "\u001b[K     |████████████████████████████████| 68.3MB 127kB/s \n",
            "\u001b[K     |████████████████████████████████| 3.8MB 55.4MB/s \n",
            "\u001b[K     |████████████████████████████████| 51kB 8.1MB/s \n",
            "\u001b[K     |████████████████████████████████| 512kB 48.3MB/s \n",
            "\u001b[K     |████████████████████████████████| 204kB 50.0MB/s \n",
            "\u001b[K     |████████████████████████████████| 61kB 9.6MB/s \n",
            "\u001b[K     |████████████████████████████████| 286kB 52.1MB/s \n",
            "\u001b[?25h  Building wheel for visdom (setup.py) ... \u001b[?25l\u001b[?25hdone\n",
            "  Building wheel for librosa (setup.py) ... \u001b[?25l\u001b[?25hdone\n",
            "  Building wheel for gast (setup.py) ... \u001b[?25l\u001b[?25hdone\n",
            "  Building wheel for torchfile (setup.py) ... \u001b[?25l\u001b[?25hdone\n",
            "\u001b[31mERROR: tensorflow-probability 0.11.0 has requirement gast>=0.3.2, but you'll have gast 0.2.2 which is incompatible.\u001b[0m\n",
            "\u001b[31mERROR: albumentations 0.1.12 has requirement imgaug<0.2.7,>=0.2.5, but you'll have imgaug 0.2.9 which is incompatible.\u001b[0m\n",
            "Selecting previously unselected package libportaudio2:amd64.\n",
            "(Reading database ... 144865 files and directories currently installed.)\n",
            "Preparing to unpack .../libportaudio2_19.6.0-1_amd64.deb ...\n",
            "Unpacking libportaudio2:amd64 (19.6.0-1) ...\n",
            "Setting up libportaudio2:amd64 (19.6.0-1) ...\n",
            "Processing triggers for libc-bin (2.27-3ubuntu1.2) ...\n",
            "/sbin/ldconfig.real: /usr/local/lib/python3.6/dist-packages/ideep4py/lib/libmkldnn.so.0 is not a symbolic link\n",
            "\n",
            "Collecting pyTelegramBotAPI\n",
            "\u001b[?25l  Downloading https://files.pythonhosted.org/packages/2b/43/c86538ae1a81308768cd2fc362c02d808cb99274fb502e2dd9f30ade6ce9/pyTelegramBotAPI-3.7.4.tar.gz (78kB)\n",
            "\u001b[K     |████████████████████████████████| 81kB 5.7MB/s \n",
            "\u001b[?25hRequirement already satisfied: requests in /usr/local/lib/python3.6/dist-packages (from pyTelegramBotAPI) (2.23.0)\n",
            "Requirement already satisfied: chardet<4,>=3.0.2 in /usr/local/lib/python3.6/dist-packages (from requests->pyTelegramBotAPI) (3.0.4)\n",
            "Requirement already satisfied: idna<3,>=2.5 in /usr/local/lib/python3.6/dist-packages (from requests->pyTelegramBotAPI) (2.10)\n",
            "Requirement already satisfied: certifi>=2017.4.17 in /usr/local/lib/python3.6/dist-packages (from requests->pyTelegramBotAPI) (2020.12.5)\n",
            "Requirement already satisfied: urllib3!=1.25.0,!=1.25.1,<1.26,>=1.21.1 in /usr/local/lib/python3.6/dist-packages (from requests->pyTelegramBotAPI) (1.24.3)\n",
            "Building wheels for collected packages: pyTelegramBotAPI\n",
            "  Building wheel for pyTelegramBotAPI (setup.py) ... \u001b[?25l\u001b[?25hdone\n",
            "  Created wheel for pyTelegramBotAPI: filename=pyTelegramBotAPI-3.7.4-cp36-none-any.whl size=57229 sha256=40e2d007e928906005ac4c035361cfbf73790428dff84956f754b000a7c2b61b\n",
            "  Stored in directory: /root/.cache/pip/wheels/9c/7a/b5/bb04c3ea570dc3f6b9609639543b7e37de14c359b958651899\n",
            "Successfully built pyTelegramBotAPI\n",
            "Installing collected packages: pyTelegramBotAPI\n",
            "Successfully installed pyTelegramBotAPI-3.7.4\n",
            "Collecting pysoundfile\n",
            "  Downloading https://files.pythonhosted.org/packages/2a/b3/0b871e5fd31b9a8e54b4ee359384e705a1ca1e2870706d2f081dc7cc1693/PySoundFile-0.9.0.post1-py2.py3-none-any.whl\n",
            "Requirement already satisfied: cffi>=0.6 in /usr/local/lib/python3.6/dist-packages (from pysoundfile) (1.14.4)\n",
            "Requirement already satisfied: pycparser in /usr/local/lib/python3.6/dist-packages (from cffi>=0.6->pysoundfile) (2.20)\n",
            "Installing collected packages: pysoundfile\n",
            "Successfully installed pysoundfile-0.9.0.post1\n"
          ],
          "name": "stdout"
        }
      ]
    },
    {
      "cell_type": "code",
      "metadata": {
        "id": "e8-gN3ANqqX1",
        "colab": {
          "base_uri": "https://localhost:8080/"
        },
        "outputId": "c321904f-2b80-4e14-cb9a-e15224f787fd"
      },
      "source": [
        "# Download dataset\n",
        "!gdown https://drive.google.com/uc?id=1n1sPXvT34yXFLT47QZA6FIRGrwMeSsZc\n",
        "!unzip pretrained.zip"
      ],
      "execution_count": null,
      "outputs": [
        {
          "output_type": "stream",
          "text": [
            "Downloading...\n",
            "From: https://drive.google.com/uc?id=1n1sPXvT34yXFLT47QZA6FIRGrwMeSsZc\n",
            "To: /content/Real-Time-Voice-Cloning/pretrained.zip\n",
            "384MB [00:05, 101MB/s] \n",
            "Archive:  pretrained.zip\n",
            "   creating: encoder/saved_models/\n",
            "  inflating: encoder/saved_models/pretrained.pt  \n",
            "   creating: synthesizer/saved_models/\n",
            "   creating: synthesizer/saved_models/logs-pretrained/\n",
            "   creating: synthesizer/saved_models/logs-pretrained/taco_pretrained/\n",
            " extracting: synthesizer/saved_models/logs-pretrained/taco_pretrained/checkpoint  \n",
            "  inflating: synthesizer/saved_models/logs-pretrained/taco_pretrained/tacotron_model.ckpt-278000.data-00000-of-00001  \n",
            "  inflating: synthesizer/saved_models/logs-pretrained/taco_pretrained/tacotron_model.ckpt-278000.index  \n",
            "  inflating: synthesizer/saved_models/logs-pretrained/taco_pretrained/tacotron_model.ckpt-278000.meta  \n",
            "   creating: vocoder/saved_models/\n",
            "   creating: vocoder/saved_models/pretrained/\n",
            "  inflating: vocoder/saved_models/pretrained/pretrained.pt  \n"
          ],
          "name": "stdout"
        }
      ]
    },
    {
      "cell_type": "code",
      "metadata": {
        "id": "nOINxy00q1GE",
        "colab": {
          "base_uri": "https://localhost:8080/"
        },
        "outputId": "61617315-ebf5-4e68-b411-6a8c1a631ca3"
      },
      "source": [
        "# load weights\n",
        "\n",
        "from IPython.display import Audio\n",
        "from IPython.utils import io\n",
        "from synthesizer.inference import Synthesizer\n",
        "from encoder import inference as encoder\n",
        "from vocoder import inference as vocoder\n",
        "from pathlib import Path\n",
        "import numpy as np\n",
        "import librosa\n",
        "encoder_weights = Path(\"encoder/saved_models/pretrained.pt\")\n",
        "vocoder_weights = Path(\"vocoder/saved_models/pretrained/pretrained.pt\")\n",
        "syn_dir = Path(\"synthesizer/saved_models/logs-pretrained/taco_pretrained\")\n",
        "encoder.load_model(encoder_weights)\n",
        "synthesizer = Synthesizer(syn_dir)\n",
        "vocoder.load_model(vocoder_weights)"
      ],
      "execution_count": null,
      "outputs": [
        {
          "output_type": "stream",
          "text": [
            "/content/Real-Time-Voice-Cloning/encoder/audio.py:13: UserWarning: Unable to import 'webrtcvad'. This package enables noise removal and is recommended.\n",
            "  warn(\"Unable to import 'webrtcvad'. This package enables noise removal and is recommended.\")\n"
          ],
          "name": "stderr"
        },
        {
          "output_type": "stream",
          "text": [
            "Loaded encoder \"pretrained.pt\" trained to step 1564501\n",
            "Found synthesizer \"pretrained\" trained to step 278000\n",
            "Building Wave-RNN\n",
            "Trainable Parameters: 4.481M\n",
            "Loading model weights at vocoder/saved_models/pretrained/pretrained.pt\n"
          ],
          "name": "stdout"
        }
      ]
    },
    {
      "cell_type": "code",
      "metadata": {
        "id": "5AjwoElJq6DY",
        "cellView": "code"
      },
      "source": [
        "# Vocoder\n",
        "def synth():\n",
        "  \n",
        "  text = \"This is skynet. I am going to you if you don't end the diploma\"\n",
        "  in_fpath = path_input\n",
        "\n",
        "  reprocessed_wav = encoder.preprocess_wav(in_fpath)\n",
        "  original_wav, sampling_rate = librosa.load(in_fpath)\n",
        "  preprocessed_wav = encoder.preprocess_wav(original_wav, sampling_rate)\n",
        "  embed = encoder.embed_utterance(preprocessed_wav)\n",
        "  print(\"Synthesizing new audio...\")\n",
        "  with io.capture_output() as captured:\n",
        "    specs = synthesizer.synthesize_spectrograms([text], [embed])\n",
        "  generated_wav = vocoder.infer_waveform(specs[0])\n",
        "  generated_wav = np.pad(generated_wav, (0, synthesizer.sample_rate), mode=\"constant\")\n",
        "  \n",
        "  new_output(generated_wav,synthesizer.sample_rate)\n",
        "  "
      ],
      "execution_count": null,
      "outputs": []
    },
    {
      "cell_type": "code",
      "metadata": {
        "id": "R0SN_QFLqNdi"
      },
      "source": [
        "#Path for save voice from you and from vocoder\n",
        "path_output='/content/Real-Time-Voice-Cloning/temp_audio/new_output.wav'\n",
        "path_input='/content/Real-Time-Voice-Cloning/temp_audio/new_input.wav'\n",
        "#Make a directory for temp files\n",
        "!mkdir temp_audio"
      ],
      "execution_count": null,
      "outputs": []
    },
    {
      "cell_type": "code",
      "metadata": {
        "id": "U7nfZVPU7bXX"
      },
      "source": [
        "# Some additional function for telegram bot\n",
        "\n",
        "import librosa\n",
        "import IPython.display as ipd\n",
        "import matplotlib.pyplot as plt\n",
        "import librosa.display\n",
        "import soundfile as sf  \n",
        "import tempfile\n",
        "import os\n",
        "import numpy as np\n",
        "%matplotlib inline\n",
        "\n",
        "\n",
        "#save to ogg\n",
        "def save_to_ogg(in_filename=None, in_bytes=None):\n",
        "    with tempfile.TemporaryFile() as temp_out_file:\n",
        "        temp_in_file = None\n",
        "        if in_bytes:\n",
        "            temp_in_file = tempfile.NamedTemporaryFile(delete=False)\n",
        "            temp_in_file.write(in_bytes)\n",
        "            in_filename = temp_in_file.name\n",
        "            temp_in_file.close()\n",
        "            print('file_name_',in_filename)\n",
        "            return in_filename\n",
        "        if not in_filename:\n",
        "            raise Exception('Neither input file name nor input bytes is specified.')    \n",
        "\n",
        "#transform to wav\n",
        "def new_wav(path):\n",
        "    data, samplerate = librosa.load(path)\n",
        "    sf.write(path_input, data, samplerate)\n",
        "    os.remove(path)\n",
        "\n",
        "def new_output(data, samplerate):\n",
        "    sf.write(path_output, data, samplerate)"
      ],
      "execution_count": null,
      "outputs": []
    },
    {
      "cell_type": "code",
      "metadata": {
        "id": "WX5_9t0MZn1U"
      },
      "source": [
        "API_TOKEN = '1414505005:AAFry6ATHKRSlVQDVctC6gRjl64IzS9l_wY'"
      ],
      "execution_count": null,
      "outputs": []
    },
    {
      "cell_type": "code",
      "metadata": {
        "id": "AYR4dsj_saMf",
        "colab": {
          "base_uri": "https://localhost:8080/"
        },
        "outputId": "f700ddc1-b2d9-4c36-df6b-1fee869067ff"
      },
      "source": [
        "# telegram bot \n",
        "\n",
        "import telebot\n",
        "from telebot import types\n",
        "\n",
        "import requests\n",
        "\n",
        "\n",
        "\n",
        "\n",
        "bot = telebot.TeleBot(API_TOKEN)\n",
        "\n",
        "\n",
        "@bot.message_handler(func=lambda message: True)\n",
        "def echo_all(message):\n",
        "\tchat_id = message.chat.id\n",
        "\tbot.send_message(chat_id, 'Tell something during 9 seconds for me')\n",
        "\n",
        "@bot.message_handler(content_types=['voice'])\n",
        "def handle_(message):\n",
        "\t\n",
        "    # lets find our audio\n",
        "    file_info = bot.get_file(message.voice.file_id)\n",
        "    file = requests.get('https://api.telegram.org/file/bot{0}/{1}'.format(API_TOKEN, file_info.file_path)) \n",
        "    print(file_info)\n",
        "    bot.reply_to(message,'voice is taken, wait 30 sec please')\n",
        "    # ogg to wav\n",
        "    path_temp=save_to_ogg(in_bytes=file.content)\n",
        "    new_wav(path_temp)\n",
        "    synth()\n",
        "    \n",
        "    f = open(path_output, 'rb')\n",
        "    \n",
        "    msg = bot.send_voice(message.chat.id, f, None)\n",
        "    os.remove(path_output)\n",
        "    os.remove(path_input)\n",
        " \n",
        "bot.polling()"
      ],
      "execution_count": null,
      "outputs": [
        {
          "output_type": "stream",
          "text": [
            "{'file_id': 'AwACAgIAAxkBAAMZX93PNT8E3MGdm1L2WlHKkhXnQkUAApsJAAIse_BKXoAhKfDSDBEeBA', 'file_unique_id': 'AgADmwkAAix78Eo', 'file_size': 16246, 'file_path': 'voice/file_6.oga'}\n",
            "file_name_ /tmp/tmpdnndzzyb\n"
          ],
          "name": "stdout"
        },
        {
          "output_type": "stream",
          "text": [
            "/usr/local/lib/python3.6/dist-packages/librosa/core/audio.py:162: UserWarning: PySoundFile failed. Trying audioread instead.\n",
            "  warnings.warn(\"PySoundFile failed. Trying audioread instead.\")\n"
          ],
          "name": "stderr"
        },
        {
          "output_type": "stream",
          "text": [
            "Synthesizing new audio...\n",
            "WARNING:tensorflow:From /content/Real-Time-Voice-Cloning/synthesizer/models/modules.py:113: LSTMCell.__init__ (from tensorflow.python.ops.rnn_cell_impl) is deprecated and will be removed in a future version.\n",
            "Instructions for updating:\n",
            "This class is equivalent as tf.keras.layers.LSTMCell, and will be replaced by that in Tensorflow 2.0.\n",
            "WARNING:tensorflow:From /content/Real-Time-Voice-Cloning/synthesizer/models/modules.py:420: conv1d (from tensorflow.python.layers.convolutional) is deprecated and will be removed in a future version.\n",
            "Instructions for updating:\n",
            "Use `tf.keras.layers.Conv1D` instead.\n",
            "WARNING:tensorflow:From /usr/local/lib/python3.6/dist-packages/tensorflow_core/python/layers/convolutional.py:218: Layer.apply (from tensorflow.python.keras.engine.base_layer) is deprecated and will be removed in a future version.\n",
            "Instructions for updating:\n",
            "Please use `layer.__call__` method instead.\n",
            "WARNING:tensorflow:From /content/Real-Time-Voice-Cloning/synthesizer/models/modules.py:421: batch_normalization (from tensorflow.python.layers.normalization) is deprecated and will be removed in a future version.\n",
            "Instructions for updating:\n",
            "Use keras.layers.BatchNormalization instead.  In particular, `tf.control_dependencies(tf.GraphKeys.UPDATE_OPS)` should not be used (consult the `tf.keras.layers.batch_normalization` documentation).\n",
            "WARNING:tensorflow:From /content/Real-Time-Voice-Cloning/synthesizer/models/modules.py:424: dropout (from tensorflow.python.layers.core) is deprecated and will be removed in a future version.\n",
            "Instructions for updating:\n",
            "Use keras.layers.dropout instead.\n",
            "WARNING:tensorflow:From /content/Real-Time-Voice-Cloning/synthesizer/models/modules.py:234: bidirectional_dynamic_rnn (from tensorflow.python.ops.rnn) is deprecated and will be removed in a future version.\n",
            "Instructions for updating:\n",
            "Please use `keras.layers.Bidirectional(keras.layers.RNN(cell))`, which is equivalent to this API\n",
            "WARNING:tensorflow:From /usr/local/lib/python3.6/dist-packages/tensorflow_core/python/ops/rnn.py:464: dynamic_rnn (from tensorflow.python.ops.rnn) is deprecated and will be removed in a future version.\n",
            "Instructions for updating:\n",
            "Please use `keras.layers.RNN(cell)`, which is equivalent to this API\n",
            "WARNING:tensorflow:From /usr/local/lib/python3.6/dist-packages/tensorflow_core/python/ops/rnn_cell_impl.py:958: Layer.add_variable (from tensorflow.python.keras.engine.base_layer) is deprecated and will be removed in a future version.\n",
            "Instructions for updating:\n",
            "Please use `layer.add_weight` method instead.\n",
            "WARNING:tensorflow:From /usr/local/lib/python3.6/dist-packages/tensorflow_core/python/ops/rnn_cell_impl.py:962: calling Zeros.__init__ (from tensorflow.python.ops.init_ops) with dtype is deprecated and will be removed in a future version.\n",
            "Instructions for updating:\n",
            "Call initializer instance with the dtype argument instead of passing it to the constructor\n",
            "WARNING:tensorflow:From /usr/local/lib/python3.6/dist-packages/tensorflow_core/python/ops/rnn.py:244: where (from tensorflow.python.ops.array_ops) is deprecated and will be removed in a future version.\n",
            "Instructions for updating:\n",
            "Use tf.where in 2.0, which has the same broadcast rule as np.where\n",
            "WARNING:tensorflow:From /content/Real-Time-Voice-Cloning/synthesizer/models/modules.py:304: MultiRNNCell.__init__ (from tensorflow.python.ops.rnn_cell_impl) is deprecated and will be removed in a future version.\n",
            "Instructions for updating:\n",
            "This class is equivalent as tf.keras.layers.StackedRNNCells, and will be replaced by that in Tensorflow 2.0.\n",
            "WARNING:tensorflow:From /content/Real-Time-Voice-Cloning/synthesizer/models/modules.py:268: dense (from tensorflow.python.layers.core) is deprecated and will be removed in a future version.\n",
            "Instructions for updating:\n",
            "Use keras.layers.Dense instead.\n",
            "WARNING:tensorflow:\n",
            "The TensorFlow contrib module will not be included in TensorFlow 2.0.\n",
            "For more information, please see:\n",
            "  * https://github.com/tensorflow/community/blob/master/rfcs/20180907-contrib-sunset.md\n",
            "  * https://github.com/tensorflow/addons\n",
            "  * https://github.com/tensorflow/io (for I/O related ops)\n",
            "If you depend on functionality not listed there, please file an issue.\n",
            "\n",
            "INFO:tensorflow:Restoring parameters from synthesizer/saved_models/logs-pretrained/taco_pretrained/tacotron_model.ckpt-278000\n",
            "{| ████████████████ 85500/86400 | Batch Size: 9 | Gen Rate: 3.0kHz | }"
          ],
          "name": "stdout"
        }
      ]
    },
    {
      "cell_type": "markdown",
      "metadata": {
        "id": "VRZZ1IUf8Oz_"
      },
      "source": [
        "# Выводы:\n",
        "###1 Надо сделать файнтюнинг на русский язык\n",
        "###2 Переобучить сеть на больший датасет\n",
        "###3 Попробовать поменять синтезатор и вокодер на более современные с сайта архив\n",
        "###4 Попробовать распознавание и синтез эмоций на голосе"
      ]
    },
    {
      "cell_type": "markdown",
      "metadata": {
        "id": "7Xr9aS_b5mao"
      },
      "source": [
        ""
      ]
    }
  ]
}