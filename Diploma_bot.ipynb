{
  "nbformat": 4,
  "nbformat_minor": 0,
  "metadata": {
    "colab": {
      "name": "Diploma_bot.ipynb",
      "provenance": [],
      "collapsed_sections": [],
      "authorship_tag": "ABX9TyOfz4pruM1yU7LCGk2e6ghC",
      "include_colab_link": true
    },
    "kernelspec": {
      "name": "python3",
      "display_name": "Python 3"
    }
  },
  "cells": [
    {
      "cell_type": "markdown",
      "metadata": {
        "id": "view-in-github",
        "colab_type": "text"
      },
      "source": [
        "<a href=\"https://colab.research.google.com/github/H1357/Diploma_task/blob/master/Diploma_bot.ipynb\" target=\"_parent\"><img src=\"https://colab.research.google.com/assets/colab-badge.svg\" alt=\"Open In Colab\"/></a>"
      ]
    },
    {
      "cell_type": "markdown",
      "metadata": {
        "id": "l_ZyfDTO0a6Q"
      },
      "source": [
        "# Цели проекта:\n",
        "###Понять как работать с аудио (копирование голоса/голос в текст / текст в голос)\n",
        "# Задачи проекта: \n",
        "###1 почитать статьи на сайте архив\n",
        "###2 понять как работает код для этих статей\n",
        "###3 найти интересный пример и переделать его для диплома\n",
        "###4 купить видеокарту и развивать проект после диплома "
      ]
    },
    {
      "cell_type": "code",
      "metadata": {
        "id": "tafKA3ERk4zf",
        "outputId": "551eb637-1d48-482f-834b-414a8ed740f3",
        "colab": {
          "base_uri": "https://localhost:8080/",
          "height": 68
        }
      },
      "source": [
        "# Clone git repo\n",
        "!git clone https://github.com/CorentinJ/Real-Time-Voice-Cloning.git"
      ],
      "execution_count": 1,
      "outputs": [
        {
          "output_type": "stream",
          "text": [
            "Cloning into 'Real-Time-Voice-Cloning'...\n",
            "remote: Enumerating objects: 2545, done.\u001b[K\n",
            "^C\n"
          ],
          "name": "stdout"
        }
      ]
    },
    {
      "cell_type": "code",
      "metadata": {
        "id": "rIqqZl2kqiv0",
        "outputId": "7d8a14a1-16cc-4007-b839-ed7035eb0b69",
        "colab": {
          "base_uri": "https://localhost:8080/",
          "height": 34
        }
      },
      "source": [
        "cd Real-Time-Voice-Cloning/"
      ],
      "execution_count": null,
      "outputs": [
        {
          "output_type": "stream",
          "text": [
            "/content/Real-Time-Voice-Cloning\n"
          ],
          "name": "stdout"
        }
      ]
    },
    {
      "cell_type": "code",
      "metadata": {
        "id": "asDgMbgkqmA6",
        "outputId": "201832f6-38b5-4582-c7c3-99f028e0abe3",
        "colab": {
          "base_uri": "https://localhost:8080/",
          "height": 68
        }
      },
      "source": [
        "# Install dependencies\n",
        "!pip install -q -r requirements.txt\n",
        "!apt-get install -qq libportaudio2\n",
        "!pip install pyTelegramBotAPI\n",
        "!pip install pysoundfile"
      ],
      "execution_count": null,
      "outputs": [
        {
          "output_type": "stream",
          "text": [
            "Requirement already satisfied: pyTelegramBotAPI in /usr/local/lib/python3.6/dist-packages (3.7.3)\n",
            "Requirement already satisfied: requests in /usr/local/lib/python3.6/dist-packages (from pyTelegramBotAPI) (2.7.0)\n",
            "Requirement already satisfied: six in /usr/local/lib/python3.6/dist-packages (from pyTelegramBotAPI) (1.15.0)\n"
          ],
          "name": "stdout"
        }
      ]
    },
    {
      "cell_type": "code",
      "metadata": {
        "id": "e8-gN3ANqqX1",
        "outputId": "65ed1006-3799-49fa-af90-0dcfec6810e0",
        "colab": {
          "base_uri": "https://localhost:8080/",
          "height": 326
        }
      },
      "source": [
        "# Download dataset\n",
        "!gdown https://drive.google.com/uc?id=1n1sPXvT34yXFLT47QZA6FIRGrwMeSsZc\n",
        "!unzip pretrained.zip"
      ],
      "execution_count": null,
      "outputs": [
        {
          "output_type": "stream",
          "text": [
            "Downloading...\n",
            "From: https://drive.google.com/uc?id=1n1sPXvT34yXFLT47QZA6FIRGrwMeSsZc\n",
            "To: /content/Real-Time-Voice-Cloning/pretrained.zip\n",
            "384MB [00:03, 104MB/s] \n",
            "Archive:  pretrained.zip\n",
            "replace encoder/saved_models/pretrained.pt? [y]es, [n]o, [A]ll, [N]one, [r]ename: y\n",
            "  inflating: encoder/saved_models/pretrained.pt  \n",
            "replace synthesizer/saved_models/logs-pretrained/taco_pretrained/checkpoint? [y]es, [n]o, [A]ll, [N]one, [r]ename: y\n",
            " extracting: synthesizer/saved_models/logs-pretrained/taco_pretrained/checkpoint  \n",
            "replace synthesizer/saved_models/logs-pretrained/taco_pretrained/tacotron_model.ckpt-278000.data-00000-of-00001? [y]es, [n]o, [A]ll, [N]one, [r]ename: y\n",
            "  inflating: synthesizer/saved_models/logs-pretrained/taco_pretrained/tacotron_model.ckpt-278000.data-00000-of-00001  y\n",
            "\n",
            "replace synthesizer/saved_models/logs-pretrained/taco_pretrained/tacotron_model.ckpt-278000.index? [y]es, [n]o, [A]ll, [N]one, [r]ename:   inflating: synthesizer/saved_models/logs-pretrained/taco_pretrained/tacotron_model.ckpt-278000.index  \n",
            "replace synthesizer/saved_models/logs-pretrained/taco_pretrained/tacotron_model.ckpt-278000.meta? [y]es, [n]o, [A]ll, [N]one, [r]ename: y\n",
            "  inflating: synthesizer/saved_models/logs-pretrained/taco_pretrained/tacotron_model.ckpt-278000.meta  \n",
            "replace vocoder/saved_models/pretrained/pretrained.pt? [y]es, [n]o, [A]ll, [N]one, [r]ename: y\n",
            "  inflating: vocoder/saved_models/pretrained/pretrained.pt  \n"
          ],
          "name": "stdout"
        }
      ]
    },
    {
      "cell_type": "code",
      "metadata": {
        "id": "nOINxy00q1GE",
        "outputId": "3485c852-0c9a-4c36-8776-3c561998c607",
        "colab": {
          "base_uri": "https://localhost:8080/",
          "height": 156
        }
      },
      "source": [
        "# load weights\n",
        "\n",
        "from IPython.display import Audio\n",
        "from IPython.utils import io\n",
        "from synthesizer.inference import Synthesizer\n",
        "from encoder import inference as encoder\n",
        "from vocoder import inference as vocoder\n",
        "from pathlib import Path\n",
        "import numpy as np\n",
        "import librosa\n",
        "encoder_weights = Path(\"encoder/saved_models/pretrained.pt\")\n",
        "vocoder_weights = Path(\"vocoder/saved_models/pretrained/pretrained.pt\")\n",
        "syn_dir = Path(\"synthesizer/saved_models/logs-pretrained/taco_pretrained\")\n",
        "encoder.load_model(encoder_weights)\n",
        "synthesizer = Synthesizer(syn_dir)\n",
        "vocoder.load_model(vocoder_weights)"
      ],
      "execution_count": null,
      "outputs": [
        {
          "output_type": "stream",
          "text": [
            "Loaded encoder \"pretrained.pt\" trained to step 1564501\n",
            "Found synthesizer \"pretrained\" trained to step 278000\n",
            "Building Wave-RNN\n",
            "Trainable Parameters: 4.481M\n",
            "Loading model weights at vocoder/saved_models/pretrained/pretrained.pt\n"
          ],
          "name": "stdout"
        },
        {
          "output_type": "stream",
          "text": [
            "/content/Real-Time-Voice-Cloning/encoder/audio.py:13: UserWarning: Unable to import 'webrtcvad'. This package enables noise removal and is recommended.\n",
            "  warn(\"Unable to import 'webrtcvad'. This package enables noise removal and is recommended.\")\n"
          ],
          "name": "stderr"
        }
      ]
    },
    {
      "cell_type": "code",
      "metadata": {
        "id": "5AjwoElJq6DY",
        "cellView": "code"
      },
      "source": [
        "# Vocoder\n",
        "def synth():\n",
        "  \n",
        "  text = \"This is skynet. I am going to you if you don't end the diploma\"\n",
        "  in_fpath = path_input\n",
        "\n",
        "  reprocessed_wav = encoder.preprocess_wav(in_fpath)\n",
        "  original_wav, sampling_rate = librosa.load(in_fpath)\n",
        "  preprocessed_wav = encoder.preprocess_wav(original_wav, sampling_rate)\n",
        "  embed = encoder.embed_utterance(preprocessed_wav)\n",
        "  print(\"Synthesizing new audio...\")\n",
        "  with io.capture_output() as captured:\n",
        "    specs = synthesizer.synthesize_spectrograms([text], [embed])\n",
        "  generated_wav = vocoder.infer_waveform(specs[0])\n",
        "  generated_wav = np.pad(generated_wav, (0, synthesizer.sample_rate), mode=\"constant\")\n",
        "  \n",
        "  new_output(generated_wav,synthesizer.sample_rate)\n",
        "  "
      ],
      "execution_count": null,
      "outputs": []
    },
    {
      "cell_type": "code",
      "metadata": {
        "id": "R0SN_QFLqNdi"
      },
      "source": [
        "#Path for save voice from you and from vocoder\n",
        "path_output='/content/Real-Time-Voice-Cloning/temp_audio/new_output.wav'\n",
        "path_input='/content/Real-Time-Voice-Cloning/temp_audio/new_input.wav'"
      ],
      "execution_count": null,
      "outputs": []
    },
    {
      "cell_type": "code",
      "metadata": {
        "id": "U7nfZVPU7bXX"
      },
      "source": [
        "# Some additional function for telegram bot\n",
        "\n",
        "import librosa\n",
        "import IPython.display as ipd\n",
        "import matplotlib.pyplot as plt\n",
        "import librosa.display\n",
        "import soundfile as sf  \n",
        "import tempfile\n",
        "import os\n",
        "import numpy as np\n",
        "%matplotlib inline\n",
        "\n",
        "\n",
        "#save to ogg\n",
        "def save_to_ogg(in_filename=None, in_bytes=None):\n",
        "    with tempfile.TemporaryFile() as temp_out_file:\n",
        "        temp_in_file = None\n",
        "        if in_bytes:\n",
        "            temp_in_file = tempfile.NamedTemporaryFile(delete=False)\n",
        "            temp_in_file.write(in_bytes)\n",
        "            in_filename = temp_in_file.name\n",
        "            temp_in_file.close()\n",
        "            print('file_name_',in_filename)\n",
        "            return in_filename\n",
        "        if not in_filename:\n",
        "            raise Exception('Neither input file name nor input bytes is specified.')    \n",
        "\n",
        "#transform to wav\n",
        "def new_wav(path):\n",
        "    data, samplerate = librosa.load(path)\n",
        "    sf.write(path_input, data, samplerate)\n",
        "    os.remove(path)\n",
        "\n",
        "def new_output(data, samplerate):\n",
        "    sf.write(path_output, data, samplerate)"
      ],
      "execution_count": null,
      "outputs": []
    },
    {
      "cell_type": "code",
      "metadata": {
        "id": "AYR4dsj_saMf",
        "outputId": "4dd65c37-bb28-4944-d394-674f6c6bf1c6",
        "colab": {
          "base_uri": "https://localhost:8080/",
          "height": 85
        }
      },
      "source": [
        "# telegram bot \n",
        "\n",
        "import telebot\n",
        "from telebot import types\n",
        "\n",
        "import requests\n",
        "\n",
        "\n",
        "API_TOKEN = ''\n",
        "\n",
        "bot = telebot.TeleBot(API_TOKEN)\n",
        "\n",
        "\n",
        "@bot.message_handler(func=lambda message: True)\n",
        "def echo_all(message):\n",
        "\tchat_id = message.chat.id\n",
        "\tbot.send_message(chat_id, 'Tell something during 9 seconds for me')\n",
        "\n",
        "@bot.message_handler(content_types=['voice'])\n",
        "def handle_(message):\n",
        "\t\n",
        "    # lets find our audio\n",
        "    file_info = bot.get_file(message.voice.file_id)\n",
        "    file = requests.get('https://api.telegram.org/file/bot{0}/{1}'.format(API_TOKEN, file_info.file_path)) \n",
        "    print(file_info)\n",
        "    bot.reply_to(message,'voice is taken, wait 30 sec please')\n",
        "    # ogg to wav\n",
        "    path_temp=save_to_ogg(in_bytes=file.content)\n",
        "    new_wav(path_temp)\n",
        "    synth()\n",
        "    \n",
        "    f = open(path_output, 'rb')\n",
        "    \n",
        "    msg = bot.send_voice(message.chat.id, f, None)\n",
        "    os.remove(path_output)\n",
        "    os.remove(path_input)\n",
        " \n",
        "bot.polling()"
      ],
      "execution_count": null,
      "outputs": [
        {
          "output_type": "stream",
          "text": [
            "{'file_id': 'AwACAgIAAxkBAAIBOV-UbbbZPZKLaf1YcFVPU6TwUg2QAAI-CgACBRWhSNZcDOg0MqZZGwQ', 'file_size': 18678, 'file_path': 'voice/file_21.oga'}\n",
            "file_name_ /tmp/tmp7ohbkk95\n",
            "Synthesizing new audio...\n",
            "{| ████████████████ 76000/76800 | Batch Size: 8 | Gen Rate: 2.0kHz | }"
          ],
          "name": "stdout"
        }
      ]
    },
    {
      "cell_type": "code",
      "metadata": {
        "id": "wRY_-PEMz-pw"
      },
      "source": [
        "# Выводы:\n",
        "###1 Надо сделать файнтюнинг на русский язык\n",
        "###2 Переобучить сеть на больший датасет\n",
        "###3 Попробовать поменять синтезатор и вокодер на более современные с сайта архив\n",
        "###4 Попробовать распознавание и синтез эмоций на голосе"
      ],
      "execution_count": null,
      "outputs": []
    },
    {
      "cell_type": "markdown",
      "metadata": {
        "id": "7Xr9aS_b5mao"
      },
      "source": [
        ""
      ]
    }
  ]
}